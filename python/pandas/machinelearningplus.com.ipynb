{
 "cells": [
  {
   "cell_type": "code",
   "execution_count": 1,
   "metadata": {},
   "outputs": [],
   "source": [
    "# https://www.machinelearningplus.com/python/101-pandas-exercises-python/\n",
    "import pandas as pd\n",
    "import numpy as np"
   ]
  },
  {
   "cell_type": "code",
   "execution_count": 2,
   "metadata": {},
   "outputs": [],
   "source": [
    "# 1\n",
    "v1 = pd.__version__\n",
    "# pd.show_versions(as_json=True)"
   ]
  },
  {
   "cell_type": "code",
   "execution_count": 3,
   "metadata": {},
   "outputs": [],
   "source": [
    "# 2\n",
    "mylist = list('abcedfghijklmnopqrstuvwxyz')\n",
    "myarr = np.arange(26)\n",
    "mydict = dict(zip(mylist, myarr))\n",
    "dflist = pd.Series(mylist)\n",
    "sarr = pd.Series(myarr)\n",
    "slist = pd.Series(mylist)\n",
    "sdict = pd.Series(mydict)"
   ]
  },
  {
   "cell_type": "code",
   "execution_count": 4,
   "metadata": {},
   "outputs": [],
   "source": [
    "# 3\n",
    "mylist = list('abcedfghijklmnopqrstuvwxyz')\n",
    "myarr = np.arange(26)\n",
    "mydict = dict(zip(mylist, myarr))\n",
    "ser = pd.Series(mydict)\n",
    "dfs = ser.to_frame()\n",
    "dfs.reset_index(inplace=True)"
   ]
  },
  {
   "cell_type": "code",
   "execution_count": 5,
   "metadata": {},
   "outputs": [],
   "source": [
    "# 4\n",
    "ser1 = pd.Series(list('abcedfghijklmnopqrstuvwxyz'))\n",
    "ser2 = pd.Series(np.arange(26))\n",
    "df = pd.concat([ser1, ser2], axis=1)\n",
    "df.columns = ['c1', 'c2']"
   ]
  },
  {
   "cell_type": "code",
   "execution_count": 6,
   "metadata": {},
   "outputs": [],
   "source": [
    "# 5\n",
    "ser = pd.Series(list('abcedfghijklmnopqrstuvwxyz'))\n",
    "ser.name = 'alphabets'"
   ]
  },
  {
   "cell_type": "code",
   "execution_count": 7,
   "metadata": {},
   "outputs": [],
   "source": [
    "# 6\n",
    "ser1 = pd.Series([1, 2, 3, 4, 5])\n",
    "ser2 = pd.Series([4, 5, 6, 7, 8])\n",
    "ser3 = ser1[~ser1.isin(ser2)]"
   ]
  },
  {
   "cell_type": "code",
   "execution_count": 8,
   "metadata": {},
   "outputs": [],
   "source": [
    "# 7\n",
    "ser1 = pd.Series([1, 2, 3, 4, 5])\n",
    "ser2 = pd.Series([4, 5, 6, 7, 8])\n",
    "ser3 = pd.concat(\n",
    "    [\n",
    "        ser1[~ser1.isin(ser2)], \n",
    "        ser2[~ser2.isin(ser1)]\n",
    "    ]).reset_index(drop=True)"
   ]
  },
  {
   "cell_type": "code",
   "execution_count": 48,
   "metadata": {},
   "outputs": [],
   "source": [
    "# 8\n",
    "ser = pd.Series(np.random.normal(10, 5, 25))\n",
    "# ser.describe()\n",
    "perc = np.percentile(ser, q=[0, 25, 50, 75, 100])"
   ]
  },
  {
   "cell_type": "code",
   "execution_count": 49,
   "metadata": {},
   "outputs": [],
   "source": [
    "# 9\n",
    "ser = pd.Series(np.take(list('abcdefgh'), np.random.randint(8, size=30)))\n",
    "counts = ser.value_counts()"
   ]
  },
  {
   "cell_type": "code",
   "execution_count": 81,
   "metadata": {},
   "outputs": [],
   "source": [
    "# 10\n",
    "np.random.RandomState(100)\n",
    "ser = pd.Series(np.random.randint(1, 5, [12]))\n",
    "ser2 = ser[~ser.isin(ser.value_counts().index[:2])] = 'Other'"
   ]
  },
  {
   "cell_type": "code",
   "execution_count": 93,
   "metadata": {},
   "outputs": [],
   "source": [
    "# 11\n",
    "ser = pd.Series(np.random.random(20))\n",
    "q = 10\n",
    "d = pd.qcut(ser, q=q, labels=[f'{i}th' for i in range(1,q+1)])"
   ]
  },
  {
   "cell_type": "code",
   "execution_count": 119,
   "metadata": {},
   "outputs": [],
   "source": [
    "# 12\n",
    "# Reshape the series ser into a dataframe with 7 rows and 5 columns\n",
    "shape = (7,5)\n",
    "ser = pd.Series(np.random.randint(1, 10, np.multiply(*shape)))\n",
    "df = pd.DataFrame(np.reshape(np.array(ser), shape))"
   ]
  },
  {
   "cell_type": "code",
   "execution_count": 187,
   "metadata": {},
   "outputs": [],
   "source": [
    "# 13\n",
    "ser = pd.Series(np.random.randint(1, 10, 20))\n",
    "# np.argwhere(ser.values%3==0)\n",
    "res = ser[ser%3==0].index"
   ]
  },
  {
   "cell_type": "code",
   "execution_count": 186,
   "metadata": {},
   "outputs": [],
   "source": [
    "# 14\n",
    "ser = pd.Series(list('abcdefghijklmnopqrstuvwxyz'))\n",
    "pos = [0, 4, 8, 14, 20]\n",
    "# ser.take(pos)\n",
    "res = ser[pos]"
   ]
  },
  {
   "cell_type": "code",
   "execution_count": 157,
   "metadata": {},
   "outputs": [],
   "source": [
    "# 15\n",
    "ser1 = pd.Series(range(5))\n",
    "ser2 = pd.Series(list('abcde'))\n",
    "\n",
    "h = pd.concat([ser1, ser2], axis=1)\n",
    "\n",
    "# v2 = ser1.append(ser2)\n",
    "v = pd.concat([ser1, ser2], axis=0)"
   ]
  },
  {
   "cell_type": "code",
   "execution_count": 185,
   "metadata": {},
   "outputs": [],
   "source": [
    "# 16\n",
    "ser1 = pd.Series([10, 9, 6, 5, 3, 1, 12, 8, 13])\n",
    "ser2 = pd.Series([1, 3, 10, 13])\n",
    "\n",
    "res = ser1[ser1.isin(ser2)].index"
   ]
  },
  {
   "cell_type": "code",
   "execution_count": 184,
   "metadata": {},
   "outputs": [],
   "source": [
    "# 17\n",
    "truth = pd.Series(range(10))\n",
    "pred = pd.Series(range(10)) + np.random.random(10)\n",
    "res  =np.mean(np.power(truth - pred, 2))"
   ]
  },
  {
   "cell_type": "code",
   "execution_count": 195,
   "metadata": {},
   "outputs": [],
   "source": [
    "# 18\n",
    "ser = pd.Series(['how', 'to', 'kick', 'ass?'])\n",
    "# capitalize vs title: title capitalize each word in the string, capitalize only do for the first\n",
    "res = ser.apply(lambda x:x.capitalize())"
   ]
  },
  {
   "cell_type": "code",
   "execution_count": 196,
   "metadata": {},
   "outputs": [],
   "source": [
    "# 19\n",
    "ser = pd.Series(['how', 'to', 'kick', 'ass?'])\n",
    "res = ser.apply(lambda x:len(x))"
   ]
  },
  {
   "cell_type": "code",
   "execution_count": 202,
   "metadata": {},
   "outputs": [],
   "source": [
    "# 20\n",
    "ser = pd.Series([1, 3, 6, 10, 15, 21, 27, 35])\n",
    "d1 = ser.diff(1)\n",
    "d2 = d1.diff(1)"
   ]
  },
  {
   "cell_type": "code",
   "execution_count": 215,
   "metadata": {},
   "outputs": [],
   "source": [
    "# 21\n",
    "ser = pd.Series(['01 Jan 2010', '02-02-2011', '20120303', '2013/04/04', '2014-05-05', '2015-06-06T12:20'])\n",
    "res = pd.to_datetime(ser)"
   ]
  },
  {
   "cell_type": "code",
   "execution_count": 240,
   "metadata": {},
   "outputs": [],
   "source": [
    "# 22\n",
    "ser = pd.Series(['01 Jan 2010', '02-02-2011', '20120303', '2013/04/04', '2014-05-05', '2015-06-06T12:20'])\n",
    "s = pd.to_datetime(ser)\n",
    "res = list(s.dt.day), list(s.dt.weekofyear), list(s.dt.dayofyear), list(s.dt.day_name()) "
   ]
  },
  {
   "cell_type": "code",
   "execution_count": 253,
   "metadata": {},
   "outputs": [],
   "source": [
    "# 23\n",
    "ser = pd.Series(['Jan 2010', 'Feb 2011', 'Mar 2012'])\n",
    "s = pd.to_datetime(ser)\n",
    "res = s.apply(lambda x: x.replace(day=4))"
   ]
  },
  {
   "cell_type": "code",
   "execution_count": 265,
   "metadata": {},
   "outputs": [],
   "source": [
    "# 24\n",
    "ser = pd.Series(['Apple', 'Orange', 'Plan', 'Python', 'Money'])\n",
    "res = ser[ser.str.lower().str.count(r'[aeiou]')>=2]"
   ]
  },
  {
   "cell_type": "code",
   "execution_count": 274,
   "metadata": {},
   "outputs": [],
   "source": [
    "# 25\n",
    "emails = pd.Series(['buying books at amazom.com', 'rameses@egypt.com', 'matt@t.co', 'narendra@modi.com'])\n",
    "pattern ='[A-Za-z0-9._%+-]+@[A-Za-z0-9.-]+\\\\.[A-Za-z]{2,4}'\n",
    "# emails.str.findall(pattern, flags=re.IGNORECASE)\n",
    "res = emails[emails.str.count(pattern)>0]"
   ]
  },
  {
   "cell_type": "code",
   "execution_count": 298,
   "metadata": {},
   "outputs": [],
   "source": [
    "# 26\n",
    "fruits = pd.Series(np.random.choice(['apple', 'banana', 'carrot'], 10))\n",
    "weights = pd.Series(np.linspace(1, 10, 10))\n",
    "# weights.groupby(fruits).mean()\n",
    "df = pd.concat([fruits, weights], axis=1)\n",
    "df.columns=['fruits', 'weights']\n",
    "res = df.groupby('fruits')['weights'].mean()"
   ]
  },
  {
   "cell_type": "code",
   "execution_count": 303,
   "metadata": {},
   "outputs": [],
   "source": [
    "# 27 \n",
    "p = pd.Series([1, 2, 3, 4, 5, 6, 7, 8, 9, 10])\n",
    "q = pd.Series([10, 9, 8, 7, 6, 5, 4, 3, 2, 1])\n",
    "# sum((p - q)**2)**.5\n",
    "res = np.sqrt(np.sum(np.power(p-q, 2)))"
   ]
  },
  {
   "cell_type": "code",
   "execution_count": 363,
   "metadata": {},
   "outputs": [],
   "source": [
    "# 28\n",
    "ser = pd.Series([2, 10, 3, 4, 9, 10, 2, 7, 3])\n",
    "m = np.sign(ser.diff().fillna(1))+np.sign(ser.diff(-1).fillna(1))\n",
    "res = ser[m[m==2].index].index"
   ]
  },
  {
   "cell_type": "code",
   "execution_count": 391,
   "metadata": {},
   "outputs": [],
   "source": [
    "# 29\n",
    "my_str = 'dbc deb abed gade'\n",
    "s = pd.Series(list(my_str.replace(' ','')))\n",
    "letter = s.value_counts().index[-1]\n",
    "res = my_str.replace(' ', letter)"
   ]
  },
  {
   "cell_type": "code",
   "execution_count": 415,
   "metadata": {},
   "outputs": [],
   "source": [
    "# 30\n",
    "d = pd.date_range(start=\"2000-01-01\", periods=10, freq='W-SAT')\n",
    "r = np.random.randint(1, 10, d.size)\n",
    "res = pd.Series(r,d)"
   ]
  },
  {
   "cell_type": "code",
   "execution_count": 439,
   "metadata": {},
   "outputs": [],
   "source": [
    "# 31\n",
    "# RESAMPLE\n",
    "ser = pd.Series([1,10,3,np.nan], index=pd.to_datetime(['2000-01-01', '2000-01-03', '2000-01-06', '2000-01-08']))\n",
    "res = ser.resample('D').fillna(method='ffill')"
   ]
  },
  {
   "cell_type": "code",
   "execution_count": 519,
   "metadata": {},
   "outputs": [],
   "source": [
    "# 32\n",
    "# AUTOCORR\n",
    "# IDXMAX\n",
    "ser = pd.Series(np.arange(20) + np.random.normal(1, 10, 20))\n",
    "d = pd.Series([ser.autocorr(i) for i in range(1,11)], range(1,11))\n",
    "res = d.abs().idxmax()"
   ]
  },
  {
   "cell_type": "code",
   "execution_count": 617,
   "metadata": {},
   "outputs": [],
   "source": [
    "# 33\n",
    "# DF.APPEND to add a row\n",
    "# TRANSPOSE\n",
    "\n",
    "# df = pd.read_csv('./BostonHousing.csv', chunksize=n)\n",
    "# df2 = pd.DataFrame()\n",
    "# for chunk in df:\n",
    "#     df2 = df2.append(chunk.iloc[0])\n",
    "n=100\n",
    "res = pd.concat((c.iloc[0] for c in pd.read_csv('https://raw.githubusercontent.com/selva86/datasets/master/BostonHousing.csv', chunksize=n)), axis=1).transpose()"
   ]
  },
  {
   "cell_type": "code",
   "execution_count": 618,
   "metadata": {},
   "outputs": [],
   "source": [
    "# 34\n",
    "# CSV CONVERTERS\n",
    "c = pd.read_csv('https://raw.githubusercontent.com/selva86/datasets/master/BostonHousing.csv', converters={'medv': lambda x: 'High' if float(x) > 25 else 'Low'})"
   ]
  },
  {
   "cell_type": "code",
   "execution_count": 619,
   "metadata": {},
   "outputs": [],
   "source": [
    "# 35\n",
    "l = pd.Series(range(15))\n",
    "lv = []\n",
    "l.rolling(4).apply(lambda x: lv.append(list(x.values)) or 0, raw=False)\n",
    "res = lv[::2]"
   ]
  },
  {
   "cell_type": "code",
   "execution_count": 620,
   "metadata": {},
   "outputs": [],
   "source": [
    "# 36\n",
    "# USECOLS\n",
    "res = pd.read_csv('https://raw.githubusercontent.com/selva86/datasets/master/BostonHousing.csv', usecols=['crim', 'medv'])"
   ]
  },
  {
   "cell_type": "code",
   "execution_count": 621,
   "metadata": {},
   "outputs": [],
   "source": [
    "# 37\n",
    "c = pd.read_csv('https://raw.githubusercontent.com/selva86/datasets/master/Cars93_miss.csv')\n",
    "# c.values, c.values.tolist()\n",
    "res = c.shape, c.describe(), c.dtypes, np.array(c), np.array(c).tolist()"
   ]
  },
  {
   "cell_type": "code",
   "execution_count": 647,
   "metadata": {},
   "outputs": [],
   "source": [
    "# 38\n",
    "# NP.WHERE VS NP.ARGWHERE VS NP.NONZERO\n",
    "df = pd.read_csv('https://raw.githubusercontent.com/selva86/datasets/master/Cars93_miss.csv')\n",
    "x = df[['Manufacturer', 'Model', 'Type', 'Price']].sort_values(by='Price', ascending=False).iloc[0]\n",
    "row, col = np.where(df.values == np.max(df.Price))"
   ]
  },
  {
   "cell_type": "code",
   "execution_count": 662,
   "metadata": {},
   "outputs": [],
   "source": [
    "# 39 \n",
    "df = pd.read_csv('https://raw.githubusercontent.com/selva86/datasets/master/Cars93_miss.csv')\n",
    "df.rename(columns = {'Type':'CarType'}, inplace = True) "
   ]
  },
  {
   "cell_type": "code",
   "execution_count": 674,
   "metadata": {},
   "outputs": [
    {
     "data": {
      "text/plain": [
       "True"
      ]
     },
     "execution_count": 674,
     "metadata": {},
     "output_type": "execute_result"
    }
   ],
   "source": [
    "# 40\n",
    "# VALUES\n",
    "# ISNULL\n",
    "df = pd.read_csv('https://raw.githubusercontent.com/selva86/datasets/master/Cars93_miss.csv')\n",
    "df.isnull().values.any()"
   ]
  },
  {
   "cell_type": "code",
   "execution_count": 686,
   "metadata": {},
   "outputs": [],
   "source": [
    "# 41\n",
    "df = pd.read_csv('https://raw.githubusercontent.com/selva86/datasets/master/Cars93_miss.csv')\n",
    "res = np.sum(df.isnull().values, axis=0)"
   ]
  },
  {
   "cell_type": "code",
   "execution_count": 704,
   "metadata": {},
   "outputs": [],
   "source": [
    "# 42\n",
    "df = pd.read_csv('https://raw.githubusercontent.com/selva86/datasets/master/Cars93_miss.csv')\n",
    "\n",
    "# df_out = df[['Min.Price', 'Max.Price']] = df[['Min.Price', 'Max.Price']].apply(lambda x: x.fillna(x.mean()))\n",
    "\n",
    "smp = df[\"Min.Price\"].copy()\n",
    "smp[smp.isnull()] = smp.mean()\n",
    "\n",
    "sMp = df[\"Max.Price\"].copy()\n",
    "sMp[sMp.isnull()] = sMp.mean()\n",
    "\n",
    "df[\"Min.Price\"] = smp\n",
    "df[\"Max.Price\"] = sMp"
   ]
  },
  {
   "cell_type": "code",
   "execution_count": 710,
   "metadata": {},
   "outputs": [],
   "source": [
    "# 43\n",
    "# NP.NANMEDIAN, NP.NANMEAN, ARGS on apply\n",
    "df = pd.read_csv('https://raw.githubusercontent.com/selva86/datasets/master/Cars93_miss.csv')\n",
    "d = {'Min.Price': np.nanmean, 'Max.Price': np.nanmedian}\n",
    "df[['Min.Price', 'Max.Price']] = df[['Min.Price', 'Max.Price']].apply(lambda x, d: x.fillna(d[x.name](x)), args=(d,))"
   ]
  },
  {
   "cell_type": "code",
   "execution_count": 720,
   "metadata": {},
   "outputs": [],
   "source": [
    "# 44\n",
    "df = pd.DataFrame(np.arange(20).reshape(-1, 5), columns=list('abcde'))\n",
    "res = df[[\"a\"]]"
   ]
  },
  {
   "cell_type": "code",
   "execution_count": 745,
   "metadata": {},
   "outputs": [],
   "source": [
    "# 45\n",
    "df = pd.DataFrame(np.arange(20).reshape(-1, 5), columns=list('abcde'))\n",
    "def exchange(df, src, tgt, sort=True, reverse=True):\n",
    "    df2 = df.copy()\n",
    "    df2[[src, tgt]] = df2[[tgt, src]]\n",
    "    if sort:\n",
    "        order = sorted(df.columns, reverse=reverse)\n",
    "        df2 = df2[order]\n",
    "    return df2\n",
    "res = exchange(df, \"a\", \"c\")"
   ]
  },
  {
   "cell_type": "code",
   "execution_count": 763,
   "metadata": {},
   "outputs": [],
   "source": [
    "# 46\n",
    "# df.info() to fast analyze non-nulls\n",
    "df = pd.read_csv('https://raw.githubusercontent.com/selva86/datasets/master/Cars93_miss.csv')\n",
    "pd.set_option('display.max_columns', 5)\n",
    "pd.set_option('display.max_rows', 5)\n",
    "res = df"
   ]
  },
  {
   "cell_type": "code",
   "execution_count": 793,
   "metadata": {},
   "outputs": [],
   "source": [
    "# 47\n",
    "# Check at pd.describe_option()\n",
    "# https://docs.python.org/3/library/stdtypes.html#printf-style-string-formatting\n",
    "# General: {[argument_index_or_keyword]:[width][.precision][type]}\n",
    "# {today:%B %d, %Y}\n",
    "# {number:#0x}\n",
    "# {s!a}\n",
    "df = pd.DataFrame(np.random.random(4)**10, columns=['random'])\n",
    "pd.set_option('display.float_format', lambda x: '{:.4f}'.format(x))\n",
    "# pd.options.display.float_format = '{:.4f}'.format"
   ]
  },
  {
   "cell_type": "code",
   "execution_count": 839,
   "metadata": {},
   "outputs": [],
   "source": [
    "# 48\n",
    "df = pd.DataFrame(np.random.random(4), columns=['random'])\n",
    "pd.set_option('display.float_format', lambda x: '{:.2f}%'.format(100*x))\n",
    "# out = df.style.format({'random': '{0:.2%}'.format,})"
   ]
  },
  {
   "cell_type": "code",
   "execution_count": 843,
   "metadata": {},
   "outputs": [],
   "source": [
    "# 49\n",
    "df = pd.read_csv('https://raw.githubusercontent.com/selva86/datasets/master/Cars93_miss.csv')\n",
    "n = 20\n",
    "res = df[[\"Manufacturer\", \"Model\", \"Type\"]].iloc[::n]"
   ]
  },
  {
   "cell_type": "code",
   "execution_count": 855,
   "metadata": {},
   "outputs": [],
   "source": [
    "# 50\n",
    "df = pd.read_csv('https://raw.githubusercontent.com/selva86/datasets/master/Cars93_miss.csv')\n",
    "# df[[\"Manufacturer\", \"Model\", \"Type\"]].fillna(\"missing\")\n",
    "df2 = df[[\"Manufacturer\", \"Model\", \"Type\"]].apply(lambda x: x.fillna(\"Missing\"))\n",
    "df2.index = (df2[\"Manufacturer\"]+df2[\"Model\"]+df2[\"Type\"]).apply(lambda x: hash(x))"
   ]
  },
  {
   "cell_type": "code",
   "execution_count": 899,
   "metadata": {},
   "outputs": [],
   "source": [
    "# 51\n",
    "# Series argsort: indices that would sort the underlying data\n",
    "df = pd.DataFrame(np.random.randint(1, 30, 30).reshape(10,-1), columns=list('abc'))\n",
    "n = 5\n",
    "res = df.sort_values(by=\"a\", ascending=False).head(n).iloc[-1]\n",
    "# df['a'].argsort()[::-1][n]"
   ]
  },
  {
   "cell_type": "code",
   "execution_count": 872,
   "metadata": {},
   "outputs": [],
   "source": [
    "# 52\n",
    "given_value = 31\n",
    "n = 3\n",
    "ser = pd.Series(np.random.randint(1, 100, 15))"
   ]
  },
  {
   "cell_type": "code",
   "execution_count": 875,
   "metadata": {},
   "outputs": [
    {
     "data": {
      "text/plain": [
       "5     94\n",
       "12    89\n",
       "      ..\n",
       "6     41\n",
       "1     38\n",
       "Length: 11, dtype: int64"
      ]
     },
     "execution_count": 875,
     "metadata": {},
     "output_type": "execute_result"
    }
   ],
   "source": [
    "ser[ser>given_value].sort_values(ascending=False)"
   ]
  },
  {
   "cell_type": "code",
   "execution_count": null,
   "metadata": {},
   "outputs": [],
   "source": []
  }
 ],
 "metadata": {
  "kernelspec": {
   "display_name": "Python 3",
   "language": "python",
   "name": "python3"
  },
  "language_info": {
   "codemirror_mode": {
    "name": "ipython",
    "version": 3
   },
   "file_extension": ".py",
   "mimetype": "text/x-python",
   "name": "python",
   "nbconvert_exporter": "python",
   "pygments_lexer": "ipython3",
   "version": "3.8.5"
  }
 },
 "nbformat": 4,
 "nbformat_minor": 4
}
